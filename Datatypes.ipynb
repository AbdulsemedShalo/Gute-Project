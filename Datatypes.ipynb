{
  "nbformat": 4,
  "nbformat_minor": 0,
  "metadata": {
    "colab": {
      "provenance": [],
      "authorship_tag": "ABX9TyNEQDW4h8kbGqJgmFb1uC/0",
      "include_colab_link": true
    },
    "kernelspec": {
      "name": "python3",
      "display_name": "Python 3"
    },
    "language_info": {
      "name": "python"
    }
  },
  "cells": [
    {
      "cell_type": "markdown",
      "metadata": {
        "id": "view-in-github",
        "colab_type": "text"
      },
      "source": [
        "<a href=\"https://colab.research.google.com/github/AbdulsemedShalo/Gute-Project/blob/main/Datatypes.ipynb\" target=\"_parent\"><img src=\"https://colab.research.google.com/assets/colab-badge.svg\" alt=\"Open In Colab\"/></a>"
      ]
    },
    {
      "cell_type": "code",
      "execution_count": 11,
      "metadata": {
        "colab": {
          "base_uri": "https://localhost:8080/"
        },
        "id": "jfi0flSTtKAV",
        "outputId": "e4d23207-4e44-4bf3-e583-844372c404b5"
      },
      "outputs": [
        {
          "output_type": "stream",
          "name": "stdout",
          "text": [
            "Destination_Port                 int64\n",
            "Flow_Duration                    int64\n",
            "Total_Fwd_Packets                int64\n",
            "Total_Backward_Packets           int64\n",
            "Total_Length_of_Fwd_Packets      int64\n",
            "                                ...   \n",
            "Idle_Mean                      float64\n",
            "Idle_Std                       float64\n",
            "Idle_Max                         int64\n",
            "Idle_Min                         int64\n",
            "Label                           object\n",
            "Length: 78, dtype: object\n"
          ]
        }
      ],
      "source": [
        "import pandas as pd\n",
        "from google.colab import files\n",
        "\n",
        "\n",
        "nRowsRead = None\n",
        "\n",
        "# the path for a testing dataframe\n",
        "file_path_test=\"/content/tester.csv\"\n",
        "\n",
        "# the path for a training dataframe\n",
        "file_path_train=\"/content/trainer.csv\"\n",
        "\n",
        "\n",
        "df_trainer = pd.read_csv(file_path_train,nrows = nRowsRead)\n",
        "df_tester = pd.read_csv(file_path_test,nrows = nRowsRead)\n",
        "# describing both the test and train dataframes\n",
        "\n",
        "\n",
        "df_trainer.dataframeName = 'trainer.csv'\n",
        "df_tester.dataframeName =  'tester.csv'\n",
        "\n",
        "nRowsNum, nCol = df_trainer.shape\n",
        "nRowsNum2, nCol2 = df_tester.shape\n",
        "\n",
        "#print(f'There are {nRowsNum} rows and {nCol} columns for training dataframe')\n",
        "#print(f'There are {nRowsNum2} rows and {nCol2} columns for testing dataframe')\n",
        "\n",
        "#print(df_trainer.isna())\n",
        "\n",
        "\n",
        "print(df_trainer.dtypes)\n"
      ]
    }
  ]
}