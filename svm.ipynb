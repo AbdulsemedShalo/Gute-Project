{
  "nbformat": 4,
  "nbformat_minor": 0,
  "metadata": {
    "colab": {
      "provenance": [],
      "authorship_tag": "ABX9TyPvLojHpevs3wmLuHotC30c",
      "include_colab_link": true
    },
    "kernelspec": {
      "name": "python3",
      "display_name": "Python 3"
    },
    "language_info": {
      "name": "python"
    }
  },
  "cells": [
    {
      "cell_type": "markdown",
      "metadata": {
        "id": "view-in-github",
        "colab_type": "text"
      },
      "source": [
        "<a href=\"https://colab.research.google.com/github/AbdulsemedShalo/Gute-Project/blob/main/svm.ipynb\" target=\"_parent\"><img src=\"https://colab.research.google.com/assets/colab-badge.svg\" alt=\"Open In Colab\"/></a>"
      ]
    },
    {
      "cell_type": "code",
      "execution_count": 31,
      "metadata": {
        "colab": {
          "base_uri": "https://localhost:8080/"
        },
        "id": "jfi0flSTtKAV",
        "outputId": "2f5f3bc3-063a-452e-8ed9-28ddac1af72e"
      },
      "outputs": [
        {
          "output_type": "stream",
          "name": "stdout",
          "text": [
            "0.7766798418972332\n"
          ]
        }
      ],
      "source": [
        "import pandas as pd\n",
        "from google.colab import files\n",
        "from sklearn.model_selection import train_test_split\n",
        "from sklearn.svm import SVC\n",
        "from sklearn.metrics import accuracy_score\n",
        "\n",
        "nRowsRead = None\n",
        "\n",
        "# the path for a testing dataframe\n",
        "file_path_test=\"/content/tester.csv\"\n",
        "file_path_train=\"/content/trainer.csv\"\n",
        "\n",
        "\n",
        "df_trainer = pd.read_csv(file_path_train,nrows = nRowsRead)\n",
        "df_tester = pd.read_csv(file_path_test,nrows = nRowsRead)\n",
        "# describing both the test and train dataframes\n",
        "\n",
        "df_trainer.dataframeName = 'trainer.csv'\n",
        "df_tester.dataframeName =  'tester.csv'\n",
        "\n",
        "X = df_trainer.iloc[:,:-1]\n",
        "y = df_trainer.iloc[:,-1]\n",
        "\n",
        "X_train,X_test, y_train,y_test=train_test_split(X,y, test_size=0.2, random_state=42)\n",
        "\n",
        "X_train\n",
        "\n",
        "y_train\n",
        "\n",
        "\n",
        "\n",
        "X_test\n",
        "\n",
        "y_test\n",
        "\n",
        "svm_model=SVC(kernel='rbf')\n",
        "svm_model.fit(X_train,y_train)\n",
        "y_pred=svm_model.predict(X_test)\n",
        "accuracy=accuracy_score(y_test,y_pred)\n",
        "print(accuracy)\n",
        "\n",
        "\n",
        "\n"
      ]
    }
  ]
}