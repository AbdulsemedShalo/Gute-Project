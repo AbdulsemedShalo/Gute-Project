{
  "nbformat": 4,
  "nbformat_minor": 0,
  "metadata": {
    "colab": {
      "provenance": [],
      "authorship_tag": "ABX9TyMZ1b/MywoeubCOVg8za6CK",
      "include_colab_link": true
    },
    "kernelspec": {
      "name": "python3",
      "display_name": "Python 3"
    },
    "language_info": {
      "name": "python"
    }
  },
  "cells": [
    {
      "cell_type": "markdown",
      "metadata": {
        "id": "view-in-github",
        "colab_type": "text"
      },
      "source": [
        "<a href=\"https://colab.research.google.com/github/AbdulsemedShalo/Gute-Project/blob/main/MissingValuesCheck.ipynb\" target=\"_parent\"><img src=\"https://colab.research.google.com/assets/colab-badge.svg\" alt=\"Open In Colab\"/></a>"
      ]
    },
    {
      "cell_type": "code",
      "execution_count": 9,
      "metadata": {
        "colab": {
          "base_uri": "https://localhost:8080/"
        },
        "id": "jfi0flSTtKAV",
        "outputId": "0b269f81-ff91-468b-e0d3-1c4d66457eb2"
      },
      "outputs": [
        {
          "output_type": "stream",
          "name": "stdout",
          "text": [
            "       Destination_Port  Flow_Duration  Total_Fwd_Packets  \\\n",
            "0                 False          False              False   \n",
            "1                 False          False              False   \n",
            "2                 False          False              False   \n",
            "3                 False          False              False   \n",
            "4                 False          False              False   \n",
            "...                 ...            ...                ...   \n",
            "35051             False          False              False   \n",
            "35052             False          False              False   \n",
            "35053             False          False              False   \n",
            "35054             False          False              False   \n",
            "35055             False          False              False   \n",
            "\n",
            "       Total_Backward_Packets  Total_Length_of_Fwd_Packets  \\\n",
            "0                       False                        False   \n",
            "1                       False                        False   \n",
            "2                       False                        False   \n",
            "3                       False                        False   \n",
            "4                       False                        False   \n",
            "...                       ...                          ...   \n",
            "35051                   False                        False   \n",
            "35052                   False                        False   \n",
            "35053                   False                        False   \n",
            "35054                   False                        False   \n",
            "35055                   False                        False   \n",
            "\n",
            "       Total_Length_of_Bwd_Packets  Fwd_Packet_Length_Max  \\\n",
            "0                            False                  False   \n",
            "1                            False                  False   \n",
            "2                            False                  False   \n",
            "3                            False                  False   \n",
            "4                            False                  False   \n",
            "...                            ...                    ...   \n",
            "35051                        False                  False   \n",
            "35052                        False                  False   \n",
            "35053                        False                  False   \n",
            "35054                        False                  False   \n",
            "35055                        False                  False   \n",
            "\n",
            "       Fwd_Packet_Length_Min  Fwd_Packet_Length_Mean  Fwd_Packet_Length_Std  \\\n",
            "0                      False                   False                  False   \n",
            "1                      False                   False                  False   \n",
            "2                      False                   False                  False   \n",
            "3                      False                   False                  False   \n",
            "4                      False                   False                  False   \n",
            "...                      ...                     ...                    ...   \n",
            "35051                  False                   False                  False   \n",
            "35052                  False                   False                  False   \n",
            "35053                  False                   False                  False   \n",
            "35054                  False                   False                  False   \n",
            "35055                  False                   False                  False   \n",
            "\n",
            "       ...  min_seg_size_forward  Active_Mean  Active_Std  Active_Max  \\\n",
            "0      ...                 False        False       False       False   \n",
            "1      ...                 False        False       False       False   \n",
            "2      ...                 False        False       False       False   \n",
            "3      ...                 False        False       False       False   \n",
            "4      ...                 False        False       False       False   \n",
            "...    ...                   ...          ...         ...         ...   \n",
            "35051  ...                 False        False       False       False   \n",
            "35052  ...                 False        False       False       False   \n",
            "35053  ...                 False        False       False       False   \n",
            "35054  ...                 False        False       False       False   \n",
            "35055  ...                 False        False       False       False   \n",
            "\n",
            "       Active_Min  Idle_Mean  Idle_Std  Idle_Max  Idle_Min  Label  \n",
            "0           False      False     False     False     False  False  \n",
            "1           False      False     False     False     False  False  \n",
            "2           False      False     False     False     False  False  \n",
            "3           False      False     False     False     False  False  \n",
            "4           False      False     False     False     False  False  \n",
            "...           ...        ...       ...       ...       ...    ...  \n",
            "35051       False      False     False     False     False  False  \n",
            "35052       False      False     False     False     False  False  \n",
            "35053       False      False     False     False     False  False  \n",
            "35054       False      False     False     False     False  False  \n",
            "35055       False      False     False     False     False  False  \n",
            "\n",
            "[35056 rows x 78 columns]\n"
          ]
        }
      ],
      "source": [
        "import pandas as pd\n",
        "from google.colab import files\n",
        "\n",
        "\n",
        "nRowsRead = None\n",
        "\n",
        "# the path for a testing dataframe\n",
        "file_path_test=\"/content/tester.csv\"\n",
        "\n",
        "# the path for a training dataframe\n",
        "file_path_train=\"/content/trainer.csv\"\n",
        "\n",
        "\n",
        "df_trainer = pd.read_csv(file_path_train,nrows = nRowsRead)\n",
        "df_tester = pd.read_csv(file_path_test,nrows = nRowsRead)\n",
        "# describing both the test and train dataframes\n",
        "\n",
        "\n",
        "df_trainer.dataframeName = 'trainer.csv'\n",
        "df_tester.dataframeName =  'tester.csv'\n",
        "\n",
        "nRowsNum, nCol = df_trainer.shape\n",
        "nRowsNum2, nCol2 = df_tester.shape\n",
        "\n",
        "#print(f'There are {nRowsNum} rows and {nCol} columns for training dataframe')\n",
        "#print(f'There are {nRowsNum2} rows and {nCol2} columns for testing dataframe')\n",
        "\n",
        "print(df_tester.isna())"
      ]
    }
  ]
}